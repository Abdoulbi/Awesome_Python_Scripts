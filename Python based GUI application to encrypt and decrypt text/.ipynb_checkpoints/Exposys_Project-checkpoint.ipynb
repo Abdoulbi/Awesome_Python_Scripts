{
 "cells": [
  {
   "cell_type": "markdown",
   "metadata": {},
   "source": [
    "# Name: SHIVAM RAVI\n",
    "## PROJECT CODE\n",
    "##             on\n",
    "## “Python based GUI application to encrypt and decrypt text”\n",
    "##   DevIncept Participant\n",
    "## Issue no: #660"
   ]
  },
  {
   "cell_type": "markdown",
   "metadata": {},
   "source": [
    " Importing required libraries"
   ]
  },
  {
   "cell_type": "code",
   "execution_count": 1,
   "metadata": {},
   "outputs": [],
   "source": [
    "import tkinter as tk\n",
    "import tkinter.font as tkfont\n",
    "from tkinter import *\n",
    "from tkinter.ttk import *"
   ]
  },
  {
   "cell_type": "markdown",
   "metadata": {},
   "source": [
    "Importing ohawf [ Easy OAuth2 authentication for Google services ]  package for authentication purpose"
   ]
  },
  {
   "cell_type": "code",
   "execution_count": 2,
   "metadata": {},
   "outputs": [],
   "source": [
    "import ohawf\n"
   ]
  },
  {
   "cell_type": "markdown",
   "metadata": {},
   "source": [
    "Creating a credentials object so that you will immediately receive a link for the Web-based Google OAuth2 login prompt. This will identify yours identity before sending any message to other"
   ]
  },
  {
   "cell_type": "code",
   "execution_count": 3,
   "metadata": {},
   "outputs": [
    {
     "name": "stdout",
     "output_type": "stream",
     "text": [
      "Please visit this URL to authorize this application: https://accounts.google.com/o/oauth2/auth?response_type=code&client_id=769904540573-knscs3mhvd56odnf7i8h3al13kiqulft.apps.googleusercontent.com&redirect_uri=urn%3Aietf%3Awg%3Aoauth%3A2.0%3Aoob&scope=https%3A%2F%2Fwww.googleapis.com%2Fauth%2Fwebmasters.readonly+https%3A%2F%2Fwww.googleapis.com%2Fauth%2Fanalytics.readonly&state=U9dYAnqcshUcIRjAGfpnHwTfjiKPn2&prompt=consent&access_type=offline\n",
      "Enter the authorization code: 4/1AX4XfWi504wIATA47tpkmdOhe4fv3YNz8ybMTc26AeTY4n514WyELmRzhGg\n",
      "Authenticaton Successful!! You are good to go for instant messaging\n"
     ]
    }
   ],
   "source": [
    "credentials = ohawf.Credentials().get()\n",
    "print(\"Authenticaton Successful!! You are good to go for instant messaging\")"
   ]
  },
  {
   "cell_type": "markdown",
   "metadata": {},
   "source": [
    "We are using tkinter as a frontend part of this projet. This framework provides Python users with a simple way to create GUI elements using the widgets found in the Tk toolkit. Tk widgets can be used to construct buttons, menus, data fields, etc."
   ]
  },
  {
   "cell_type": "code",
   "execution_count": 2,
   "metadata": {},
   "outputs": [],
   "source": [
    "root = tk.Tk()\n"
   ]
  },
  {
   "cell_type": "code",
   "execution_count": 3,
   "metadata": {},
   "outputs": [
    {
     "data": {
      "text/plain": [
       "''"
      ]
     },
     "execution_count": 3,
     "metadata": {},
     "output_type": "execute_result"
    }
   ],
   "source": [
    "# For changing the title of the title bar \n",
    "root.title(\"Text Encryptor-Decryptor\")"
   ]
  },
  {
   "cell_type": "code",
   "execution_count": 4,
   "metadata": {},
   "outputs": [
    {
     "data": {
      "text/plain": [
       "''"
      ]
     },
     "execution_count": 4,
     "metadata": {},
     "output_type": "execute_result"
    }
   ],
   "source": [
    "# To set the dimensions of the window\n",
    "root.geometry(\"400x500\") # width x height\n",
    "# To set whether we can resize the window or not.The below line doesn't allow the resizing of the window.\n",
    "root.resizable(width=FALSE, height=FALSE)"
   ]
  },
  {
   "cell_type": "code",
   "execution_count": 5,
   "metadata": {},
   "outputs": [],
   "source": [
    "# Creating a canvas \n",
    "canvas = tk.Canvas(root,height = 500, width=400, bg=\"MediumPurple1\")\n",
    "# Attaching the canvas\n",
    "canvas.pack()"
   ]
  },
  {
   "cell_type": "code",
   "execution_count": 6,
   "metadata": {},
   "outputs": [],
   "source": [
    "# Set the family,size and style of the font\n",
    "bold_font = tkfont.Font(family=\"Helvetica\",size=12,weight=\"bold\")"
   ]
  },
  {
   "cell_type": "code",
   "execution_count": 7,
   "metadata": {},
   "outputs": [
    {
     "data": {
      "text/plain": [
       "1"
      ]
     },
     "execution_count": 7,
     "metadata": {},
     "output_type": "execute_result"
    }
   ],
   "source": [
    "# Creating a label with a text and attaching it to the root\n",
    "label1 = tk.Label(root,text= \"Enter the Text\",width=20,bg=\"MediumPurple1\")\n",
    "# adding the font features to the label\n",
    "label1.config(font=bold_font)\n",
    "# placing the label in the canvas\n",
    "canvas.create_window(200,100,window=label1)"
   ]
  },
  {
   "cell_type": "code",
   "execution_count": 8,
   "metadata": {},
   "outputs": [
    {
     "data": {
      "text/plain": [
       "2"
      ]
     },
     "execution_count": 8,
     "metadata": {},
     "output_type": "execute_result"
    }
   ],
   "source": [
    "# Text Area \n",
    "user_text = tk.Entry(root)\n",
    "canvas.create_window(200,150,window=user_text)"
   ]
  },
  {
   "cell_type": "code",
   "execution_count": 9,
   "metadata": {},
   "outputs": [
    {
     "data": {
      "text/plain": [
       "3"
      ]
     },
     "execution_count": 9,
     "metadata": {},
     "output_type": "execute_result"
    }
   ],
   "source": [
    "# Creating a label with a text and attaching it to the root\n",
    "label2=tk.Label(root,text=\"Choose an Operation\",width=25,bg=\"MediumPurple1\")\n",
    "# adding the font features to the label\n",
    "label2.config(font=bold_font)\n",
    "# placing the label in the canvas\n",
    "canvas.create_window(200,200,window=label2)"
   ]
  },
  {
   "cell_type": "code",
   "execution_count": 10,
   "metadata": {},
   "outputs": [],
   "source": [
    "# Tkinter Variable \n",
    "v = tk.IntVar()"
   ]
  },
  {
   "cell_type": "code",
   "execution_count": 11,
   "metadata": {},
   "outputs": [],
   "source": [
    "# Defined a function choice\n",
    "def choice():\n",
    "  # Retrieve the value of the radio button\n",
    "    x = v.get()\n",
    "  # Performs Encryption if the value is 1 else performs Decryption.\n",
    "    if(x==1):\n",
    "        encryption()\n",
    "    elif(x==2):\n",
    "        decryption()"
   ]
  },
  {
   "cell_type": "code",
   "execution_count": 12,
   "metadata": {},
   "outputs": [],
   "source": [
    "# Defined a function Encryption\n",
    "def encryption():\n",
    "  # Get the user entered text to get function and store it in a variable plain_text\n",
    "    plain_text = user_text.get()\n",
    "  # To store the result   \n",
    "    cipher_text = \"\"\n",
    "  # Number of shift to be performed. For Caesar Cipher it's 3\n",
    "    key = 3\n",
    "  # traversing the text\n",
    "    for i in range(len(plain_text)):\n",
    "        letter = plain_text[i]\n",
    "  # UpperCase Condition\n",
    "        if(letter.isupper()):\n",
    "            cipher_text+=chr((ord(letter)+key-65)%26+65)\n",
    "        else:\n",
    "  # LowerCase Condition\n",
    "            cipher_text+=chr((ord(letter)+key-97)%26+97)\n",
    "  # Creating a label with a text and attaching it to the root       \n",
    "    label3 =tk.Label(root,text=cipher_text,width=20,bg=\"light yellow\")\n",
    "  # adding the font features to the label\n",
    "    label3.config(font=bold_font)\n",
    "  # placing the label in the canvas\n",
    "    canvas.create_window(200,350,window=label3)"
   ]
  },
  {
   "cell_type": "code",
   "execution_count": 13,
   "metadata": {},
   "outputs": [],
   "source": [
    "# Defined a function Decryption\n",
    "def decryption():\n",
    "  # Get the user entered text to get function and store it in a varaible cipher_text\n",
    "    cipher_text = user_text.get()\n",
    "  # To store the result\n",
    "    plain_text = \"\"\n",
    "  # Number of shifts to be performed. For Caesar Cipher it's 3.\n",
    "    key = 3\n",
    "  # Traversing the text\n",
    "    for i in range(len(cipher_text)):\n",
    "        letter = cipher_text[i]\n",
    "  # Uppercase condition\n",
    "        if(letter.isupper()):\n",
    "            plain_text+=chr((ord(letter)-key-65)%26+65)\n",
    "        else:\n",
    "  # Lowercase condition\n",
    "            plain_text+=chr((ord(letter)-key-97)%26+97) \n",
    "  # Creating a label with a text and attaching it to the root\n",
    "    label4 =tk.Label(root,text=plain_text,width=20,bg=\"light yellow\")\n",
    "  # Adding the font features to the label\n",
    "    label4.config(font=bold_font)\n",
    "  # Placing the label in the canvas\n",
    "    canvas.create_window(200,350,window=label4)"
   ]
  },
  {
   "cell_type": "code",
   "execution_count": 14,
   "metadata": {},
   "outputs": [
    {
     "data": {
      "text/plain": [
       "5"
      ]
     },
     "execution_count": 14,
     "metadata": {},
     "output_type": "execute_result"
    }
   ],
   "source": [
    "# Radio Button for Encryption \n",
    "label5=tk.Radiobutton(root, text=\"Encryption\",padx = 20, variable=v, value=1,command=choice,bg=\"light yellow\")\n",
    "label5.config(font=bold_font)\n",
    "canvas.create_window(100,250,window=label5)\n",
    "# Radio Button for Decryption\n",
    "label6=tk.Radiobutton(root, text=\"Decryption\",padx = 20, variable=v, value=2,command=choice,bg=\"light yellow\")\n",
    "label6.config(font=bold_font)\n",
    "canvas.create_window(300,250,window=label6)"
   ]
  },
  {
   "cell_type": "code",
   "execution_count": 15,
   "metadata": {},
   "outputs": [
    {
     "data": {
      "text/plain": [
       "6"
      ]
     },
     "execution_count": 15,
     "metadata": {},
     "output_type": "execute_result"
    }
   ],
   "source": [
    "# Creating a label with a text and attaching it to the root\n",
    "label7 =tk.Label(root,text=\"Converted Text \",width=20,bg=\"MediumPurple1\")\n",
    "# adding the font features to the label\n",
    "label7.config(font=bold_font)\n",
    "# placing the label in the canvas\n",
    "canvas.create_window(200,300,window=label7)"
   ]
  },
  {
   "cell_type": "code",
   "execution_count": null,
   "metadata": {},
   "outputs": [],
   "source": [
    "root.mainloop()"
   ]
  },
  {
   "cell_type": "code",
   "execution_count": null,
   "metadata": {},
   "outputs": [],
   "source": []
  }
 ],
 "metadata": {
  "kernelspec": {
   "display_name": "Python 3",
   "language": "python",
   "name": "python3"
  },
  "language_info": {
   "codemirror_mode": {
    "name": "ipython",
    "version": 3
   },
   "file_extension": ".py",
   "mimetype": "text/x-python",
   "name": "python",
   "nbconvert_exporter": "python",
   "pygments_lexer": "ipython3",
   "version": "3.7.6"
  }
 },
 "nbformat": 4,
 "nbformat_minor": 4
}
